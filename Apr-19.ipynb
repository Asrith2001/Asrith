{
 "cells": [
  {
   "cell_type": "code",
   "execution_count": 7,
   "metadata": {},
   "outputs": [
    {
     "name": "stdout",
     "output_type": "stream",
     "text": [
      "Enter Student Count:50\n",
      "Enter Lower Range:0\n",
      "Enter Upper Range:100\n"
     ]
    }
   ],
   "source": [
    "#file data processing\n",
    "from random import randint\n",
    "def marksgen(n,lb,ub):\n",
    "    with open('datafiles/marks.txt','w') as f:\n",
    "        for i in range(0,n):\n",
    "            r=randint(lb,ub)\n",
    "            f.write(str(r)+'\\n')\n",
    "    return\n",
    "n=int(input('Enter Student Count:'))\n",
    "lb=int(input('Enter Lower Range:'))\n",
    "ub=int(input('Enter Upper Range:'))\n",
    "marksgen(n,lb,ub)\n"
   ]
  },
  {
   "cell_type": "code",
   "execution_count": null,
   "metadata": {},
   "outputs": [],
   "source": []
  },
  {
   "cell_type": "code",
   "execution_count": 8,
   "metadata": {},
   "outputs": [
    {
     "name": "stdout",
     "output_type": "stream",
     "text": [
      "49.44\n"
     ]
    }
   ],
   "source": [
    "#average\n",
    "with open(\"datafiles/marks.txt\") as f:\n",
    "    data=f.read()(\n",
    "    marks=data.split()\n",
    "    sum=0\n",
    "    for mark in marks:\n",
    "        sum+=int(mark))\n",
    "    print(sum/len(marks))    "
   ]
  },
  {
   "cell_type": "code",
   "execution_count": 9,
   "metadata": {},
   "outputs": [
    {
     "name": "stdout",
     "output_type": "stream",
     "text": [
      "24.0\n"
     ]
    }
   ],
   "source": [
    "\n",
    "with open(\"datafiles/marks.txt\") as f:\n",
    "    data=f.read()\n",
    "    marks=data.split()\n",
    "    pc=0\n",
    "    for mark in marks:\n",
    "        if int(mark)>=75:\n",
    "            pc+=1\n",
    "    print((pc/len(marks))*100)        "
   ]
  },
  {
   "cell_type": "code",
   "execution_count": null,
   "metadata": {},
   "outputs": [],
   "source": [
    "with open(\"datafiles/marks.txt\") as f:\n",
    "    data=f.read()\n",
    "    "
   ]
  },
  {
   "cell_type": "raw",
   "metadata": {},
   "source": []
  },
  {
   "cell_type": "code",
   "execution_count": 10,
   "metadata": {},
   "outputs": [
    {
     "name": "stdout",
     "output_type": "stream",
     "text": [
      "10\n",
      "python\n",
      "program\n",
      "20\n",
      "89.5\n"
     ]
    }
   ],
   "source": [
    "#variale length\n",
    "def varlen(num,*args):\n",
    "    num=10\n",
    "    print(num)\n",
    "    for a in args:\n",
    "        print(a)\n",
    "varlen(10,'python','program',20,89.5)        "
   ]
  },
  {
   "cell_type": "code",
   "execution_count": 14,
   "metadata": {},
   "outputs": [
    {
     "name": "stdout",
     "output_type": "stream",
     "text": [
      "['__class__', '__contains__', '__delattr__', '__delitem__', '__dir__', '__doc__', '__eq__', '__format__', '__ge__', '__getattribute__', '__getitem__', '__gt__', '__hash__', '__init__', '__init_subclass__', '__iter__', '__le__', '__len__', '__lt__', '__ne__', '__new__', '__reduce__', '__reduce_ex__', '__repr__', '__reversed__', '__setattr__', '__setitem__', '__sizeof__', '__str__', '__subclasshook__', 'clear', 'copy', 'fromkeys', 'get', 'items', 'keys', 'pop', 'popitem', 'setdefault', 'update', 'values']\n"
     ]
    }
   ],
   "source": [
    "d= {}\n",
    "print(dir(dict))"
   ]
  },
  {
   "cell_type": "code",
   "execution_count": null,
   "metadata": {},
   "outputs": [],
   "source": [
    "dict=['name']\n",
    "dict\n"
   ]
  },
  {
   "cell_type": "code",
   "execution_count": null,
   "metadata": {},
   "outputs": [],
   "source": []
  },
  {
   "cell_type": "code",
   "execution_count": 15,
   "metadata": {},
   "outputs": [
    {
     "data": {
      "text/plain": [
       "{5, 7, 9}"
      ]
     },
     "execution_count": 15,
     "metadata": {},
     "output_type": "execute_result"
    }
   ],
   "source": [
    "d1 = {1,2,3,4,5,7,9}\n",
    "d2 = {1,2,3,4}\n",
    "d1.difference_update(d2)\n",
    "d1"
   ]
  },
  {
   "cell_type": "code",
   "execution_count": 16,
   "metadata": {},
   "outputs": [
    {
     "data": {
      "text/plain": [
       "{1, 2, 3, 4}"
      ]
     },
     "execution_count": 16,
     "metadata": {},
     "output_type": "execute_result"
    }
   ],
   "source": [
    "d1 = {1,2,3,4}\n",
    "d2 = {1,2,3,4,5}     \n",
    "d1.intersection_update(d2)\n",
    "d1"
   ]
  },
  {
   "cell_type": "code",
   "execution_count": 22,
   "metadata": {},
   "outputs": [
    {
     "data": {
      "text/plain": [
       "set()"
      ]
     },
     "execution_count": 22,
     "metadata": {},
     "output_type": "execute_result"
    }
   ],
   "source": [
    "d1 = {1,2,3,4}\n",
    "d2 = {1,2,3,4,5}\n",
    "d1.symmetric_difference_update(d2)\n",
    "d1"
   ]
  },
  {
   "cell_type": "code",
   "execution_count": 23,
   "metadata": {},
   "outputs": [
    {
     "name": "stdout",
     "output_type": "stream",
     "text": [
      "set()\n"
     ]
    }
   ],
   "source": [
    "d1 = {1,2,3,4}\n",
    "d2 = {1,2,3,4,5}\n",
    "a=d1.symmetric_difference(d2)\n",
    "print(a)"
   ]
  },
  {
   "cell_type": "code",
   "execution_count": 27,
   "metadata": {},
   "outputs": [
    {
     "name": "stdout",
     "output_type": "stream",
     "text": [
      "True\n"
     ]
    }
   ],
   "source": [
    "d1 = {1,2,3,4}\n",
    "d2 = {1,2,3,4,5}\n",
    "a=d1.issubset(d2)\n",
    "print(a)"
   ]
  },
  {
   "cell_type": "code",
   "execution_count": 26,
   "metadata": {},
   "outputs": [
    {
     "name": "stdout",
     "output_type": "stream",
     "text": [
      "False\n"
     ]
    }
   ],
   "source": [
    "d1 = {1,2,3,4}\n",
    "d2 = {1,2,3,4,5}\n",
    "a=d1.issuperset(d2)\n",
    "print(a)"
   ]
  },
  {
   "cell_type": "code",
   "execution_count": 32,
   "metadata": {},
   "outputs": [
    {
     "name": "stdout",
     "output_type": "stream",
     "text": [
      "True\n"
     ]
    }
   ],
   "source": [
    "d1 = {1,2,3,4}\n",
    "d2 = {5}\n",
    "a=d1.isdisjoint(d2)\n",
    "print(a)"
   ]
  },
  {
   "cell_type": "code",
   "execution_count": 34,
   "metadata": {},
   "outputs": [
    {
     "name": "stdout",
     "output_type": "stream",
     "text": [
      "Enter Number:5\n",
      "*\n",
      "*\n",
      "*\n",
      "*\n",
      "*\n",
      "*\n",
      "*\n",
      "*\n",
      "*\n",
      "*\n"
     ]
    }
   ],
   "source": [
    "n=int(input('Enter Number:'))\n",
    "for i in range(1,n):\n",
    "    for j in range(0,i):\n",
    "        print('*')"
   ]
  },
  {
   "cell_type": "markdown",
   "metadata": {},
   "source": [
    "n=int(input('Enter Number:'))\n",
    "for i in range(1,n):\n",
    "    for j in range(0,i):\n",
    "        print('*',end='')"
   ]
  },
  {
   "cell_type": "markdown",
   "metadata": {},
   "source": [
    "#objectorientedprogramming\n",
    "-Class\n",
    " -Collection of Variable and methods\n",
    " -syntax:    -class classname:\n",
    "               ***documents***\n",
    "               variables\n",
    "               methods\n",
    " -rules:    -should be capital\n",
    "            -doesn't allow spaces and keywords"
   ]
  },
  {
   "cell_type": "code",
   "execution_count": 9,
   "metadata": {},
   "outputs": [
    {
     "name": "stdout",
     "output_type": "stream",
     "text": [
      "10\n",
      "From exmp function...\n",
      "basic Example\n"
     ]
    }
   ],
   "source": [
    "class Exm:\n",
    "    '''basic Example'''\n",
    "    a=10\n",
    "    def exmp():\n",
    "        return('From exmp function...')\n",
    "        #print('From exmp function...')\n",
    "print(Exm.a) \n",
    "print(Exm.exmp())   \n",
    "print(Exm.__doc__)\n"
   ]
  },
  {
   "cell_type": "code",
   "execution_count": 15,
   "metadata": {},
   "outputs": [
    {
     "name": "stdout",
     "output_type": "stream",
     "text": [
      "3628800\n"
     ]
    }
   ],
   "source": [
    "class factorial:\n",
    "    def fact(i):\n",
    "        fac=1\n",
    "        for i in range(1,i+1):\n",
    "            fac=fac*i\n",
    "        return fac\n",
    "print(factorial.fact(10))    "
   ]
  },
  {
   "cell_type": "code",
   "execution_count": 16,
   "metadata": {},
   "outputs": [
    {
     "data": {
      "text/plain": [
       "'Its A Prime'"
      ]
     },
     "execution_count": 16,
     "metadata": {},
     "output_type": "execute_result"
    }
   ],
   "source": [
    "class A:\n",
    "    def prime (self,a):\n",
    "        count=0\n",
    "        for i in range(1,a+1):\n",
    "            if a%i==0:\n",
    "                count+=1\n",
    "        if count==2:\n",
    "            return 'Its A Prime'\n",
    "        else:\n",
    "            return 'Its Not A Prime'\n",
    "a=A()\n",
    "a.prime(13)"
   ]
  },
  {
   "cell_type": "code",
   "execution_count": null,
   "metadata": {},
   "outputs": [],
   "source": [
    "class A:\n",
    "    def perfect (self,a):\n",
    "        count=0\n",
    "        for i in range(1,a+1):\n",
    "            "
   ]
  },
  {
   "cell_type": "code",
   "execution_count": null,
   "metadata": {},
   "outputs": [],
   "source": [
    "class Multicons():\n",
    "    def __init__(self):\n",
    "        print('From First Count')\n",
    "    def __init__(self):\n",
    "        print('From Second Count')"
   ]
  },
  {
   "cell_type": "code",
   "execution_count": null,
   "metadata": {},
   "outputs": [],
   "source": [
    "INHERITANCE\n",
    "-acquiring properties from parent class to child class\n",
    "-types: 1.Single\n",
    "        2.Multilevel\n",
    "        3.Multiple\n",
    "        4.Heirarchical\n",
    "        5.Hybrid"
   ]
  },
  {
   "cell_type": "code",
   "execution_count": 20,
   "metadata": {},
   "outputs": [
    {
     "name": "stdout",
     "output_type": "stream",
     "text": [
      "From Child Class\n",
      "From Parent Class\n"
     ]
    }
   ],
   "source": [
    "#single\n",
    "class A():\n",
    "    a=1\n",
    "    def ca():\n",
    "        return('From Parent Class')\n",
    "class B(A):\n",
    "    b=2\n",
    "    def cb():\n",
    "        return('From Child Class')\n",
    "obj = B\n",
    "print(obj.cb())\n",
    "print(obj.ca())\n"
   ]
  },
  {
   "cell_type": "code",
   "execution_count": 26,
   "metadata": {},
   "outputs": [
    {
     "name": "stdout",
     "output_type": "stream",
     "text": [
      "From Child Class\n",
      "From Child Class\n",
      "From Parent Class\n"
     ]
    }
   ],
   "source": [
    "#multilevel\n",
    "class A():\n",
    "    a=1\n",
    "    def ca():\n",
    "        return('From Parent Class')\n",
    "class B(A):\n",
    "    b=2\n",
    "    def cb():\n",
    "        return('From Child Class')\n",
    "class C(B):\n",
    "    c=3\n",
    "    def cc():\n",
    "        return('From Child Class')\n",
    "obj = C\n",
    "print(obj.cc())\n",
    "print(obj.cb())\n",
    "print(obj.ca())\n",
    "\n",
    "    "
   ]
  },
  {
   "cell_type": "code",
   "execution_count": 27,
   "metadata": {},
   "outputs": [
    {
     "name": "stdout",
     "output_type": "stream",
     "text": [
      "From Child Class\n",
      "From Parent Class\n",
      "From Parent Class\n"
     ]
    }
   ],
   "source": [
    "#multilevel\n",
    "class A():\n",
    "    a=1\n",
    "    def ca():\n",
    "        return('From Parent Class')\n",
    "class B():\n",
    "    b=2\n",
    "    def cb():\n",
    "        return('From Parent Class')\n",
    "class C(A,B):\n",
    "    c=3\n",
    "    def cc():\n",
    "        return('From Child Class')\n",
    "obj = C\n",
    "print(obj.cc())\n",
    "print(obj.cb())\n",
    "print(obj.ca())\n"
   ]
  },
  {
   "cell_type": "code",
   "execution_count": 39,
   "metadata": {},
   "outputs": [
    {
     "name": "stdout",
     "output_type": "stream",
     "text": [
      "From Child Class\n",
      "From Child Class\n",
      "From Child Class\n",
      "From Parent Class\n"
     ]
    }
   ],
   "source": [
    "#heirarchical\n",
    "class A():\n",
    "    a=1\n",
    "    def ca():\n",
    "        return('From Parent Class')\n",
    "class B(A):\n",
    "    b=2\n",
    "    def cb():\n",
    "        return('From Child Class')\n",
    "class C(A):\n",
    "    c=3\n",
    "    def cc():\n",
    "        return('From Child Class')\n",
    "class D(A):\n",
    "    d=4\n",
    "    def cd():\n",
    "        return('From Child Class')    \n",
    "obj = B\n",
    "obj1 = C\n",
    "obj2 = D\n",
    "print(obj2.cd())\n",
    "print(obj1.cc())\n",
    "print(obj.cb())\n",
    "print(obj.ca())\n"
   ]
  },
  {
   "cell_type": "code",
   "execution_count": null,
   "metadata": {},
   "outputs": [],
   "source": []
  },
  {
   "cell_type": "code",
   "execution_count": null,
   "metadata": {},
   "outputs": [],
   "source": []
  }
 ],
 "metadata": {
  "kernelspec": {
   "display_name": "Python 3",
   "language": "python",
   "name": "python3"
  },
  "language_info": {
   "codemirror_mode": {
    "name": "ipython",
    "version": 3
   },
   "file_extension": ".py",
   "mimetype": "text/x-python",
   "name": "python",
   "nbconvert_exporter": "python",
   "pygments_lexer": "ipython3",
   "version": "3.8.5"
  }
 },
 "nbformat": 4,
 "nbformat_minor": 4
}
